{
 "cells": [
  {
   "cell_type": "markdown",
   "id": "0f6cb84e-2409-4daa-99f7-bdca6e0c7d66",
   "metadata": {},
   "source": [
    "# Predicting MBTI Based on Social Media Use\n",
    "#### ECON 323 003 Quantitative Economic Modelling with Data Science Application\n",
    "\n",
    "Group Members: Zaya Baatarzaya (45131414) | Kim Tan Palanca (98857568) | Vivian Vu (92958461) | Sophia Zhang (65921389)"
   ]
  },
  {
   "cell_type": "markdown",
   "id": "7859ada3-c4c2-4459-b39e-7167682d030f",
   "metadata": {},
   "source": [
    "# Introduction"
   ]
  },
  {
   "cell_type": "markdown",
   "id": "75f6fe6b-b29e-4bee-bec8-d7cef49ba42d",
   "metadata": {},
   "source": [
    "Personality is defined as the characteristics and behavior of an individual that encompass their emotional patterns (American Psychology Association, 2022). Over time, many mechanisms and indicators have been discovered that break down the intricacies of a personality into general categories, one of which is the Myers-Briggs Type Indicator (MBTI) test. This personality instrument was developed by Isabel Briggs Myers and Katherine Briggs to bring true Carl Jung’s theory of personalities having basic differences.\n",
    "\n",
    "There are four main divisions within the MBTI classification with two contrasting traits in each division. Depending on the traits satisfied by an individual, a four-letter code that combines one trait from each of the divisions will determine the individual’s personality type. The divisions and types are listed as follows:\n",
    "\n",
    "**Table 1.** <br>\n",
    "*Myers-Briggs Type Indicators*</p>\n",
    "\n",
    "\n",
    "Category  | Traits | Description\n",
    "------------- | ------------- | -------------\n",
    "Favorite World  | Introvert (I) or Extrovert (E) |Preference to focus on the outer world or one’s inner world.\n",
    "Information  | Sensing (S) or Intuition (N) | Preference to focus on and take in basic information or to interpret and add meaning.\n",
    "Decisions | Thinking (T) or Feeling (F) |Preference to first look at logic and consistency or to first look at the people and special circumstances when making decisions.\n",
    "Structure | Judging (J) or Perceiving (P) | Preference to get things decided or to stay open to new information and options when dealing with the outside world.\n",
    "\n",
    "Note. The information in this table is taken from The Myers & Briggs Foundation. (2022, November). MBTI® basics. The Myers & Briggs Foundation. Retrieved April 3, 2023, from https://www.myersbriggs.org/my-mbti-personality-type/mbti-basics/ \n",
    "\n",
    "There are many aspects of one’s behavior that determine their personality type including their writing style (Gupta et al., 2019). With the popularity of social media where people have the freedom to share their thoughts and stories, many individuals of varying personality types can arise in a single social media platform (Nisha et al., 2021). The dataset “(MBTI) Myers-Briggs Personality Type Dataset” by user Mitchell J presents data collected from the PersonalityCafe Forum which includes an individual’s MBTI and their last 50 posts on the forum. Utilizing the techniques learned in the ECON 323 course, this project aims to delve into the relationship between Myers Briggs Type Indicators (MBTI) and social media use. More specifically, to predict an individual’s MBTI based on their posts on social media.\n"
   ]
  },
  {
   "cell_type": "markdown",
   "id": "7de75385-4712-43dc-be06-842c9a01f425",
   "metadata": {},
   "source": [
    "# Cleaning"
   ]
  },
  {
   "cell_type": "markdown",
   "id": "ce641089-8faf-474f-9699-03961c4ccd8f",
   "metadata": {},
   "source": [
    "Before performing any analysis, it is critical to import the dataset and any packages used throughout the study. As mentioned in the introduction, the project will manipulate the “(MBTI) Myers-Briggs Personality Type Dataset” by user Mitchell J. Note that we first separated the original data set into two CSV files: one with only the MBTI type and another with only the posts. We then imported the two files into this notebook."
   ]
  },
  {
   "cell_type": "code",
   "execution_count": 1,
   "id": "685c06d7-d2e4-44ac-8ec0-b2b62c3ea340",
   "metadata": {
    "tags": []
   },
   "outputs": [],
   "source": [
    "import pandas as pd\n",
    "import numpy as np\n",
    "import matplotlib.pyplot as plt\n",
    "\n",
    "types = pd.read_csv(\"mbti_types.csv\")\n",
    "posts = pd.read_csv(\"mbti_posts.csv\")"
   ]
  },
  {
   "cell_type": "markdown",
   "id": "e36a424e-1e94-4144-8226-9428de5d0cea",
   "metadata": {},
   "source": [
    "A section of each file is shown below:"
   ]
  },
  {
   "cell_type": "code",
   "execution_count": 2,
   "id": "803d2cb2-8f14-4407-9617-bfdd53c596a5",
   "metadata": {
    "tags": []
   },
   "outputs": [
    {
     "name": "stdout",
     "output_type": "stream",
     "text": [
      "   type\n",
      "0  INFJ\n",
      "1  ENTP\n",
      "2  INTP\n",
      "3  INTJ\n",
      "4  ENTJ\n",
      "5  INTJ\n",
      "6  INFJ\n",
      "7  INTJ\n",
      "8  INFJ\n",
      "9  INTP\n",
      "                                               posts\n",
      "0  'http://www.youtube.com/watch?v=qsXHcwe3krw|||...\n",
      "1  'I'm finding the lack of me in these posts ver...\n",
      "2  'Good one  _____   https://www.youtube.com/wat...\n",
      "3  'Dear INTP,   I enjoyed our conversation the o...\n",
      "4  'You're fired.|||That's another silly misconce...\n",
      "5  '18/37 @.@|||Science  is not perfect. No scien...\n",
      "6  'No, I can't draw on my own nails (haha). Thos...\n",
      "7  'I tend to build up a collection of things on ...\n",
      "8  I'm not sure, that's a good question. The dist...\n",
      "9  'https://www.youtube.com/watch?v=w8-egj0y8Qs||...\n"
     ]
    }
   ],
   "source": [
    "print(types.head(10))\n",
    "print(posts.head(10))"
   ]
  },
  {
   "cell_type": "markdown",
   "id": "127378f8-02a3-4361-8ca4-4c05484aeb1e",
   "metadata": {},
   "source": [
    "The analysis will only utilize the first post of each subject, thus each row in the `posts` CSV file will be seaparated by `\"|||\"`. Then, only the first column will be selected for the continuation of the investigation."
   ]
  },
  {
   "cell_type": "code",
   "execution_count": 3,
   "id": "97533f3c-4997-4fed-9011-a813e0b257ef",
   "metadata": {
    "tags": []
   },
   "outputs": [],
   "source": [
    "sep_posts = posts['posts'].str.split(\"\\|\\|\\|\", expand = True)\n",
    "sample_posts = pd.DataFrame(sep_posts[0])"
   ]
  },
  {
   "cell_type": "markdown",
   "id": "abadd556-aa63-4568-85aa-0184939ed933",
   "metadata": {},
   "source": [
    "Lastly, the two files--`types` and `sample_posts`-- will concatenate into one dataframe using the `pd.concat` function."
   ]
  },
  {
   "cell_type": "code",
   "execution_count": 4,
   "id": "b951631e-a72a-4741-85c2-a3610998b9e1",
   "metadata": {
    "tags": []
   },
   "outputs": [
    {
     "data": {
      "text/html": [
       "<div>\n",
       "<style scoped>\n",
       "    .dataframe tbody tr th:only-of-type {\n",
       "        vertical-align: middle;\n",
       "    }\n",
       "\n",
       "    .dataframe tbody tr th {\n",
       "        vertical-align: top;\n",
       "    }\n",
       "\n",
       "    .dataframe thead th {\n",
       "        text-align: right;\n",
       "    }\n",
       "</style>\n",
       "<table border=\"1\" class=\"dataframe\">\n",
       "  <thead>\n",
       "    <tr style=\"text-align: right;\">\n",
       "      <th></th>\n",
       "      <th>type</th>\n",
       "      <th>posts</th>\n",
       "    </tr>\n",
       "  </thead>\n",
       "  <tbody>\n",
       "    <tr>\n",
       "      <th>0</th>\n",
       "      <td>INFJ</td>\n",
       "      <td>'http://www.youtube.com/watch?v=qsXHcwe3krw</td>\n",
       "    </tr>\n",
       "    <tr>\n",
       "      <th>1</th>\n",
       "      <td>ENTP</td>\n",
       "      <td>'I'm finding the lack of me in these posts ver...</td>\n",
       "    </tr>\n",
       "    <tr>\n",
       "      <th>2</th>\n",
       "      <td>INTP</td>\n",
       "      <td>'Good one  _____   https://www.youtube.com/wat...</td>\n",
       "    </tr>\n",
       "    <tr>\n",
       "      <th>3</th>\n",
       "      <td>INTJ</td>\n",
       "      <td>'Dear INTP,   I enjoyed our conversation the o...</td>\n",
       "    </tr>\n",
       "    <tr>\n",
       "      <th>4</th>\n",
       "      <td>ENTJ</td>\n",
       "      <td>'You're fired.</td>\n",
       "    </tr>\n",
       "    <tr>\n",
       "      <th>...</th>\n",
       "      <td>...</td>\n",
       "      <td>...</td>\n",
       "    </tr>\n",
       "    <tr>\n",
       "      <th>8670</th>\n",
       "      <td>ISFP</td>\n",
       "      <td>'https://www.youtube.com/watch?v=t8edHB_h908</td>\n",
       "    </tr>\n",
       "    <tr>\n",
       "      <th>8671</th>\n",
       "      <td>ENFP</td>\n",
       "      <td>'So...if this thread already exists someplace ...</td>\n",
       "    </tr>\n",
       "    <tr>\n",
       "      <th>8672</th>\n",
       "      <td>INTP</td>\n",
       "      <td>'So many questions when i do these things.  I ...</td>\n",
       "    </tr>\n",
       "    <tr>\n",
       "      <th>8673</th>\n",
       "      <td>INFP</td>\n",
       "      <td>'I am very conflicted right now when it comes ...</td>\n",
       "    </tr>\n",
       "    <tr>\n",
       "      <th>8674</th>\n",
       "      <td>INFP</td>\n",
       "      <td>'It has been too long since I have been on per...</td>\n",
       "    </tr>\n",
       "  </tbody>\n",
       "</table>\n",
       "<p>8675 rows × 2 columns</p>\n",
       "</div>"
      ],
      "text/plain": [
       "      type                                              posts\n",
       "0     INFJ        'http://www.youtube.com/watch?v=qsXHcwe3krw\n",
       "1     ENTP  'I'm finding the lack of me in these posts ver...\n",
       "2     INTP  'Good one  _____   https://www.youtube.com/wat...\n",
       "3     INTJ  'Dear INTP,   I enjoyed our conversation the o...\n",
       "4     ENTJ                                     'You're fired.\n",
       "...    ...                                                ...\n",
       "8670  ISFP       'https://www.youtube.com/watch?v=t8edHB_h908\n",
       "8671  ENFP  'So...if this thread already exists someplace ...\n",
       "8672  INTP  'So many questions when i do these things.  I ...\n",
       "8673  INFP  'I am very conflicted right now when it comes ...\n",
       "8674  INFP  'It has been too long since I have been on per...\n",
       "\n",
       "[8675 rows x 2 columns]"
      ]
     },
     "execution_count": 4,
     "metadata": {},
     "output_type": "execute_result"
    }
   ],
   "source": [
    "data = pd.concat([types, sample_posts], axis=1)\n",
    "data.columns = ['type', 'posts']\n",
    "data"
   ]
  },
  {
   "cell_type": "markdown",
   "id": "03d45c9f-96a5-416c-8d03-f57c087d986b",
   "metadata": {},
   "source": [
    "Given the large number of observations in the dataset, it is beneficial first to understand the distribution of representation for each MBTI type to provide some awareness of any possible uneven distribution when concluding the analysis."
   ]
  },
  {
   "cell_type": "code",
   "execution_count": 5,
   "id": "b506b7d2-5dc2-4d68-9e53-4487c844f112",
   "metadata": {
    "tags": []
   },
   "outputs": [
    {
     "name": "stdout",
     "output_type": "stream",
     "text": [
      "['ESTJ', 'ENTJ', 'ESFJ', 'ENFJ', 'ISTJ', 'ISFJ', 'INTJ', 'INFJ', 'ESTP', 'ENTP', 'ESFP', 'ENFP', 'ISTP', 'INTP', 'ISFP', 'INFP']\n"
     ]
    }
   ],
   "source": [
    "mbti_types = ['estj', 'entj', 'esfj', 'enfj', \n",
    "              'istj', 'isfj', 'intj', 'infj',\n",
    "              'estp', 'entp', 'esfp', 'enfp', \n",
    "              'istp', 'intp', 'isfp', 'infp']\n",
    "\n",
    "mbti=[]\n",
    "for x in mbti_types:\n",
    "    l = x.upper()\n",
    "    mbti += [l]\n",
    "\n",
    "print(mbti)"
   ]
  },
  {
   "cell_type": "code",
   "execution_count": 6,
   "id": "69e83453-a02c-4616-81be-3c61b28249b8",
   "metadata": {
    "tags": []
   },
   "outputs": [
    {
     "name": "stdout",
     "output_type": "stream",
     "text": [
      "[39, 231, 42, 190, 205, 166, 1091, 1470, 89, 685, 48, 675, 337, 1304, 271, 1832]\n"
     ]
    }
   ],
   "source": [
    "group_data = data.groupby('type')\n",
    "\n",
    "n = []\n",
    "for x in mbti:\n",
    "    num_rows = len(group_data.get_group(f\"{x}\"))\n",
    "    n += [num_rows]\n",
    "    \n",
    "print(n)"
   ]
  },
  {
   "cell_type": "code",
   "execution_count": 7,
   "id": "cd1c5b49-3734-498f-abc3-c24d450ac0cc",
   "metadata": {
    "tags": []
   },
   "outputs": [],
   "source": [
    "n_obs = pd.DataFrame([np.array(mbti), np.array(n)]).T"
   ]
  },
  {
   "cell_type": "code",
   "execution_count": 8,
   "id": "cfdbbd2a-ab34-4fbd-b350-394932235daa",
   "metadata": {
    "tags": []
   },
   "outputs": [
    {
     "data": {
      "text/html": [
       "<div>\n",
       "<style scoped>\n",
       "    .dataframe tbody tr th:only-of-type {\n",
       "        vertical-align: middle;\n",
       "    }\n",
       "\n",
       "    .dataframe tbody tr th {\n",
       "        vertical-align: top;\n",
       "    }\n",
       "\n",
       "    .dataframe thead th {\n",
       "        text-align: right;\n",
       "    }\n",
       "</style>\n",
       "<table border=\"1\" class=\"dataframe\">\n",
       "  <thead>\n",
       "    <tr style=\"text-align: right;\">\n",
       "      <th></th>\n",
       "      <th>type</th>\n",
       "      <th>n obeservations</th>\n",
       "    </tr>\n",
       "  </thead>\n",
       "  <tbody>\n",
       "    <tr>\n",
       "      <th>0</th>\n",
       "      <td>ESTJ</td>\n",
       "      <td>39</td>\n",
       "    </tr>\n",
       "    <tr>\n",
       "      <th>1</th>\n",
       "      <td>ENTJ</td>\n",
       "      <td>231</td>\n",
       "    </tr>\n",
       "    <tr>\n",
       "      <th>2</th>\n",
       "      <td>ESFJ</td>\n",
       "      <td>42</td>\n",
       "    </tr>\n",
       "    <tr>\n",
       "      <th>3</th>\n",
       "      <td>ENFJ</td>\n",
       "      <td>190</td>\n",
       "    </tr>\n",
       "    <tr>\n",
       "      <th>4</th>\n",
       "      <td>ISTJ</td>\n",
       "      <td>205</td>\n",
       "    </tr>\n",
       "    <tr>\n",
       "      <th>5</th>\n",
       "      <td>ISFJ</td>\n",
       "      <td>166</td>\n",
       "    </tr>\n",
       "    <tr>\n",
       "      <th>6</th>\n",
       "      <td>INTJ</td>\n",
       "      <td>1091</td>\n",
       "    </tr>\n",
       "    <tr>\n",
       "      <th>7</th>\n",
       "      <td>INFJ</td>\n",
       "      <td>1470</td>\n",
       "    </tr>\n",
       "    <tr>\n",
       "      <th>8</th>\n",
       "      <td>ESTP</td>\n",
       "      <td>89</td>\n",
       "    </tr>\n",
       "    <tr>\n",
       "      <th>9</th>\n",
       "      <td>ENTP</td>\n",
       "      <td>685</td>\n",
       "    </tr>\n",
       "    <tr>\n",
       "      <th>10</th>\n",
       "      <td>ESFP</td>\n",
       "      <td>48</td>\n",
       "    </tr>\n",
       "    <tr>\n",
       "      <th>11</th>\n",
       "      <td>ENFP</td>\n",
       "      <td>675</td>\n",
       "    </tr>\n",
       "    <tr>\n",
       "      <th>12</th>\n",
       "      <td>ISTP</td>\n",
       "      <td>337</td>\n",
       "    </tr>\n",
       "    <tr>\n",
       "      <th>13</th>\n",
       "      <td>INTP</td>\n",
       "      <td>1304</td>\n",
       "    </tr>\n",
       "    <tr>\n",
       "      <th>14</th>\n",
       "      <td>ISFP</td>\n",
       "      <td>271</td>\n",
       "    </tr>\n",
       "    <tr>\n",
       "      <th>15</th>\n",
       "      <td>INFP</td>\n",
       "      <td>1832</td>\n",
       "    </tr>\n",
       "  </tbody>\n",
       "</table>\n",
       "</div>"
      ],
      "text/plain": [
       "    type n obeservations\n",
       "0   ESTJ              39\n",
       "1   ENTJ             231\n",
       "2   ESFJ              42\n",
       "3   ENFJ             190\n",
       "4   ISTJ             205\n",
       "5   ISFJ             166\n",
       "6   INTJ            1091\n",
       "7   INFJ            1470\n",
       "8   ESTP              89\n",
       "9   ENTP             685\n",
       "10  ESFP              48\n",
       "11  ENFP             675\n",
       "12  ISTP             337\n",
       "13  INTP            1304\n",
       "14  ISFP             271\n",
       "15  INFP            1832"
      ]
     },
     "execution_count": 8,
     "metadata": {},
     "output_type": "execute_result"
    }
   ],
   "source": [
    "n_obs.columns = [\"type\", \"n obeservations\"]\n",
    "\n",
    "n_obs"
   ]
  },
  {
   "cell_type": "code",
   "execution_count": 9,
   "id": "0d7b00fb-1297-4627-9912-5f0eb2ff5680",
   "metadata": {
    "tags": []
   },
   "outputs": [
    {
     "data": {
      "text/plain": [
       "type               ESTJENTJESFJENFJISTJISFJINTJINFJESTPENTPESFPEN...\n",
       "n obeservations                                                 8675\n",
       "dtype: object"
      ]
     },
     "execution_count": 9,
     "metadata": {},
     "output_type": "execute_result"
    }
   ],
   "source": [
    "n_obs.sum()"
   ]
  },
  {
   "cell_type": "code",
   "execution_count": 19,
   "id": "abf96eae-9a88-4f0a-aa1b-32add26fc6bd",
   "metadata": {
    "tags": []
   },
   "outputs": [
    {
     "data": {
      "image/png": "[encoded data removed]",
      "text/plain": [
       "<Figure size 640x480 with 1 Axes>"
      ]
     },
     "metadata": {},
     "output_type": "display_data"
    }
   ],
   "source": [
    "def bar_labels(x,y):\n",
    "    for i in range(len(x)):\n",
    "        plt.text(i,y[i],y[i], ha = \"center\", fontsize=8)\n",
    "\n",
    "plt.bar(n_obs[\"type\"], n_obs[\"n obeservations\"], width = 0.8)\n",
    "plt.xlabel(\"MBTI Type\")\n",
    "plt.ylabel(\"Number of Observations\")\n",
    "plt.xticks(rotation = 45)\n",
    "plt.title(\"Distribution of the Number of Observations for Each MBTI\")\n",
    "\n",
    "bar_labels(n_obs[\"type\"], n_obs[\"n obeservations\"])"
   ]
  },
  {
   "cell_type": "markdown",
   "id": "f1fc4252-c12b-4bab-9fce-a27301d5b92e",
   "metadata": {},
   "source": [
    "From this graph, it should be noted that there is a larger representation of the INTJ, INFJ, INTP, and INFP types while a much smaller representation of the ESTJ,ESFJ,ESTP, and ESFP types."
   ]
  },
  {
   "cell_type": "code",
   "execution_count": null,
   "id": "09c34cdd-e9d7-4ce0-bb44-890ae896cad3",
   "metadata": {},
   "outputs": [],
   "source": []
  }
 ],
 "metadata": {
  "kernelspec": {
   "display_name": "Python 3 (ipykernel)",
   "language": "python",
   "name": "python3"
  },
  "language_info": {
   "codemirror_mode": {
    "name": "ipython",
    "version": 3
   },
   "file_extension": ".py",
   "mimetype": "text/x-python",
   "name": "python",
   "nbconvert_exporter": "python",
   "pygments_lexer": "ipython3",
   "version": "3.10.9"
  }
 },
 "nbformat": 4,
 "nbformat_minor": 5
}
