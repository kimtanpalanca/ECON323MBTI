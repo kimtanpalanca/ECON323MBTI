{
 "cells": [
  {
   "cell_type": "markdown",
   "id": "0f6cb84e-2409-4daa-99f7-bdca6e0c7d66",
   "metadata": {},
   "source": [
    "# Predicting MBTI Based on Social Media Use\n",
    "#### ECON 323 003 Quantitative Economic Modelling with Data Science Application\n",
    "\n",
    "Group Members: Zaya Baatarzaya (45131414) | Kim Tan Palanca (98857568) | Vivian Vu (92958461) | Sophia Zhang (65921389)"
   ]
  },
  {
   "cell_type": "markdown",
   "id": "7859ada3-c4c2-4459-b39e-7167682d030f",
   "metadata": {},
   "source": [
    "# Introduction"
   ]
  },
  {
   "cell_type": "markdown",
   "id": "75f6fe6b-b29e-4bee-bec8-d7cef49ba42d",
   "metadata": {},
   "source": [
    "Personality is defined as the characteristics and behavior of an individual that encompass their emotional patterns (American Psychology Association, 2022). Over time, many mechanisms and indicators have been discovered that break down the intricacies of a personality into general categories, one of which is the Myers-Briggs Type Indicator (MBTI) test. This personality instrument was developed by Isabel Briggs Myers and Katherine Briggs to bring true Carl Jung’s theory of personalities having basic differences.\n",
    "\n",
    "There are four main divisions within the MBTI classification with two contrasting traits in each division. Depending on the traits satisfied by an individual, a four-letter code that combines one trait from each of the divisions will determine the individual’s personality type. The divisions and types are listed as follows:\n",
    "\n",
    "**Table 1.** <br>\n",
    "*Myers-Briggs Type Indicators*</p>\n",
    "\n",
    "\n",
    "Category  | Traits | Description\n",
    "------------- | ------------- | -------------\n",
    "Favorite World  | Introvert (I) or Extrovert (E) |Preference to focus on the outer world or one’s inner world.\n",
    "Information  | Sensing (S) or Intuition (N) | Preference to focus on and take in basic information or to interpret and add meaning.\n",
    "Decisions | Thinking (T) or Feeling (F) |Preference to first look at logic and consistency or to first look at the people and special circumstances when making decisions.\n",
    "Structure | Judging (J) or Perceiving (P) | Preference to get things decided or to stay open to new information and options when dealing with the outside world.\n",
    "\n",
    "Note. The information in this table is taken from The Myers & Briggs Foundation. (2022, November). MBTI® basics. The Myers & Briggs Foundation. Retrieved April 3, 2023, from https://www.myersbriggs.org/my-mbti-personality-type/mbti-basics/ \n",
    "\n",
    "There are many aspects of one’s behavior that determine their personality type including their writing style (Gupta et al., 2019). With the popularity of social media where people have the freedom to share their thoughts and stories, many individuals of varying personality types can arise in a single social media platform (Nisha et al., 2021). The dataset “(MBTI) Myers-Briggs Personality Type Dataset” by user Mitchell J presents data collected from the PersonalityCafe Forum which includes an individual’s MBTI and their last 50 posts on the forum. Utilizing the techniques learned in the ECON 323 course, this project aims to delve into the relationship between Myers Briggs Type Indicators (MBTI) and social media use. More specifically, to predict an individual’s MBTI based on their posts on social media.\n"
   ]
  },
  {
   "cell_type": "markdown",
   "id": "7de75385-4712-43dc-be06-842c9a01f425",
   "metadata": {},
   "source": [
    "# Cleaning"
   ]
  },
  {
   "cell_type": "markdown",
   "id": "ce641089-8faf-474f-9699-03961c4ccd8f",
   "metadata": {},
   "source": [
    "Before performing any analysis, it is critical to import the dataset and any packages used throughout the study. As mentioned in the introduction, the project will manipulate the “(MBTI) Myers-Briggs Personality Type Dataset” by user Mitchell J. Note that we first separated the original data set into two CSV files: one with only the MBTI type and another with only the posts. We then imported the two files into this notebook."
   ]
  },
  {
   "cell_type": "code",
   "execution_count": 1,
   "id": "685c06d7-d2e4-44ac-8ec0-b2b62c3ea340",
   "metadata": {
    "tags": []
   },
   "outputs": [],
   "source": [
    "import random\n",
    "\n",
    "import pandas as pd\n",
    "import numpy as np\n",
    "import matplotlib.pyplot as plt\n",
    "%matplotlib inline\n",
    "\n",
    "import seaborn as sns\n",
    "\n",
    "from sklearn import (linear_model, metrics, neural_network, pipeline, preprocessing, model_selection)\n",
    "\n",
    "from bs4 import BeautifulSoup\n",
    "import nltk\n",
    "import string\n",
    "from nltk.tokenize import RegexpTokenizer\n",
    "\n",
    "types = pd.read_csv(\"mbti_types.csv\")\n",
    "posts = pd.read_csv(\"mbti_posts.csv\")"
   ]
  },
  {
   "cell_type": "markdown",
   "id": "e36a424e-1e94-4144-8226-9428de5d0cea",
   "metadata": {},
   "source": [
    "A section of each file is shown below:"
   ]
  },
  {
   "cell_type": "code",
   "execution_count": 2,
   "id": "803d2cb2-8f14-4407-9617-bfdd53c596a5",
   "metadata": {
    "tags": []
   },
   "outputs": [
    {
     "name": "stdout",
     "output_type": "stream",
     "text": [
      "   type\n",
      "0  INFJ\n",
      "1  ENTP\n",
      "2  INTP\n",
      "3  INTJ\n",
      "4  ENTJ\n",
      "5  INTJ\n",
      "6  INFJ\n",
      "7  INTJ\n",
      "8  INFJ\n",
      "9  INTP\n",
      "                                               posts\n",
      "0  'http://www.youtube.com/watch?v=qsXHcwe3krw|||...\n",
      "1  'I'm finding the lack of me in these posts ver...\n",
      "2  'Good one  _____   https://www.youtube.com/wat...\n",
      "3  'Dear INTP,   I enjoyed our conversation the o...\n",
      "4  'You're fired.|||That's another silly misconce...\n",
      "5  '18/37 @.@|||Science  is not perfect. No scien...\n",
      "6  'No, I can't draw on my own nails (haha). Thos...\n",
      "7  'I tend to build up a collection of things on ...\n",
      "8  I'm not sure, that's a good question. The dist...\n",
      "9  'https://www.youtube.com/watch?v=w8-egj0y8Qs||...\n"
     ]
    }
   ],
   "source": [
    "print(types.head(10))\n",
    "print(posts.head(10))"
   ]
  },
  {
   "cell_type": "markdown",
   "id": "127378f8-02a3-4361-8ca4-4c05484aeb1e",
   "metadata": {},
   "source": [
    "The analysis will only utilize the first post of each subject, thus each row in the `posts` CSV file will be seaparated by `\"|||\"`. Then, only the first column will be selected for the continuation of the investigation."
   ]
  },
  {
   "cell_type": "code",
   "execution_count": 3,
   "id": "97533f3c-4997-4fed-9011-a813e0b257ef",
   "metadata": {
    "tags": []
   },
   "outputs": [],
   "source": [
    "sep_posts = posts['posts'].str.split(\"\\|\\|\\|\", expand = True)\n",
    "sample_posts = pd.DataFrame(sep_posts[0])"
   ]
  },
  {
   "cell_type": "markdown",
   "id": "abadd556-aa63-4568-85aa-0184939ed933",
   "metadata": {},
   "source": [
    "Lastly, the two files--`types` and `sample_posts`-- will concatenate into one dataframe using the `pd.concat` function."
   ]
  },
  {
   "cell_type": "code",
   "execution_count": 4,
   "id": "b951631e-a72a-4741-85c2-a3610998b9e1",
   "metadata": {
    "tags": []
   },
   "outputs": [
    {
     "data": {
      "text/html": [
       "<div>\n",
       "<style scoped>\n",
       "    .dataframe tbody tr th:only-of-type {\n",
       "        vertical-align: middle;\n",
       "    }\n",
       "\n",
       "    .dataframe tbody tr th {\n",
       "        vertical-align: top;\n",
       "    }\n",
       "\n",
       "    .dataframe thead th {\n",
       "        text-align: right;\n",
       "    }\n",
       "</style>\n",
       "<table border=\"1\" class=\"dataframe\">\n",
       "  <thead>\n",
       "    <tr style=\"text-align: right;\">\n",
       "      <th></th>\n",
       "      <th>type</th>\n",
       "      <th>posts</th>\n",
       "    </tr>\n",
       "  </thead>\n",
       "  <tbody>\n",
       "    <tr>\n",
       "      <th>0</th>\n",
       "      <td>INFJ</td>\n",
       "      <td>'http://www.youtube.com/watch?v=qsXHcwe3krw</td>\n",
       "    </tr>\n",
       "    <tr>\n",
       "      <th>1</th>\n",
       "      <td>ENTP</td>\n",
       "      <td>'I'm finding the lack of me in these posts ver...</td>\n",
       "    </tr>\n",
       "    <tr>\n",
       "      <th>2</th>\n",
       "      <td>INTP</td>\n",
       "      <td>'Good one  _____   https://www.youtube.com/wat...</td>\n",
       "    </tr>\n",
       "    <tr>\n",
       "      <th>3</th>\n",
       "      <td>INTJ</td>\n",
       "      <td>'Dear INTP,   I enjoyed our conversation the o...</td>\n",
       "    </tr>\n",
       "    <tr>\n",
       "      <th>4</th>\n",
       "      <td>ENTJ</td>\n",
       "      <td>'You're fired.</td>\n",
       "    </tr>\n",
       "    <tr>\n",
       "      <th>...</th>\n",
       "      <td>...</td>\n",
       "      <td>...</td>\n",
       "    </tr>\n",
       "    <tr>\n",
       "      <th>8670</th>\n",
       "      <td>ISFP</td>\n",
       "      <td>'https://www.youtube.com/watch?v=t8edHB_h908</td>\n",
       "    </tr>\n",
       "    <tr>\n",
       "      <th>8671</th>\n",
       "      <td>ENFP</td>\n",
       "      <td>'So...if this thread already exists someplace ...</td>\n",
       "    </tr>\n",
       "    <tr>\n",
       "      <th>8672</th>\n",
       "      <td>INTP</td>\n",
       "      <td>'So many questions when i do these things.  I ...</td>\n",
       "    </tr>\n",
       "    <tr>\n",
       "      <th>8673</th>\n",
       "      <td>INFP</td>\n",
       "      <td>'I am very conflicted right now when it comes ...</td>\n",
       "    </tr>\n",
       "    <tr>\n",
       "      <th>8674</th>\n",
       "      <td>INFP</td>\n",
       "      <td>'It has been too long since I have been on per...</td>\n",
       "    </tr>\n",
       "  </tbody>\n",
       "</table>\n",
       "<p>8675 rows × 2 columns</p>\n",
       "</div>"
      ],
      "text/plain": [
       "      type                                              posts\n",
       "0     INFJ        'http://www.youtube.com/watch?v=qsXHcwe3krw\n",
       "1     ENTP  'I'm finding the lack of me in these posts ver...\n",
       "2     INTP  'Good one  _____   https://www.youtube.com/wat...\n",
       "3     INTJ  'Dear INTP,   I enjoyed our conversation the o...\n",
       "4     ENTJ                                     'You're fired.\n",
       "...    ...                                                ...\n",
       "8670  ISFP       'https://www.youtube.com/watch?v=t8edHB_h908\n",
       "8671  ENFP  'So...if this thread already exists someplace ...\n",
       "8672  INTP  'So many questions when i do these things.  I ...\n",
       "8673  INFP  'I am very conflicted right now when it comes ...\n",
       "8674  INFP  'It has been too long since I have been on per...\n",
       "\n",
       "[8675 rows x 2 columns]"
      ]
     },
     "execution_count": 4,
     "metadata": {},
     "output_type": "execute_result"
    }
   ],
   "source": [
    "data = pd.concat([types, sample_posts], axis=1)\n",
    "data.columns = ['type', 'posts']\n",
    "data"
   ]
  },
  {
   "cell_type": "markdown",
   "id": "03d45c9f-96a5-416c-8d03-f57c087d986b",
   "metadata": {},
   "source": [
    "Given the large number of observations in the dataset, it is beneficial first to understand the distribution of representation for each MBTI type to provide some awareness of any possible uneven distribution when concluding the analysis."
   ]
  },
  {
   "cell_type": "code",
   "execution_count": 5,
   "id": "b506b7d2-5dc2-4d68-9e53-4487c844f112",
   "metadata": {
    "tags": []
   },
   "outputs": [
    {
     "name": "stdout",
     "output_type": "stream",
     "text": [
      "['ESTJ', 'ENTJ', 'ESFJ', 'ENFJ', 'ISTJ', 'ISFJ', 'INTJ', 'INFJ', 'ESTP', 'ENTP', 'ESFP', 'ENFP', 'ISTP', 'INTP', 'ISFP', 'INFP']\n"
     ]
    }
   ],
   "source": [
    "mbti_types = ['estj', 'entj', 'esfj', 'enfj', \n",
    "              'istj', 'isfj', 'intj', 'infj',\n",
    "              'estp', 'entp', 'esfp', 'enfp', \n",
    "              'istp', 'intp', 'isfp', 'infp']\n",
    "\n",
    "mbti=[]\n",
    "for x in mbti_types:\n",
    "    l = x.upper()\n",
    "    mbti += [l]\n",
    "\n",
    "print(mbti)"
   ]
  },
  {
   "cell_type": "code",
   "execution_count": 6,
   "id": "5bcc8a26-3220-408e-b4cc-35af0cf20fbf",
   "metadata": {
    "tags": []
   },
   "outputs": [],
   "source": [
    "group_data = data.groupby('type')\n",
    "\n",
    "n = []\n",
    "for x in mbti:\n",
    "    num_rows = len(group_data.get_group(f\"{x}\"))\n",
    "    n += [num_rows]\n",
    "    \n",
    "n_obs = pd.DataFrame([np.array(mbti), np.array(n)]).T\n",
    "n_obs.columns = [\"type\", \"n obeservations\"]\n"
   ]
  },
  {
   "cell_type": "code",
   "execution_count": 7,
   "id": "4e3d05e7-1222-4144-8da8-02d79d71fa4e",
   "metadata": {
    "tags": []
   },
   "outputs": [
    {
     "data": {
      "text/plain": [
       "Text(0.5, 1.0, 'Representation of Each MBTI in The Dataset')"
      ]
     },
     "execution_count": 7,
     "metadata": {},
     "output_type": "execute_result"
    },
    {
     "data": {
      "image/png": "[encoded data removed]",
      "text/plain": [
       "<Figure size 900x500 with 1 Axes>"
      ]
     },
     "metadata": {},
     "output_type": "display_data"
    }
   ],
   "source": [
    "plt.subplots(figsize= (9,5))\n",
    "ax = sns.countplot(data, x = \"type\", order=mbti)\n",
    "ax.bar_label(ax.containers[0], labels = n)\n",
    "plt.xlabel(\"MBTI Type\")\n",
    "plt.ylabel(\"Number of Observations\")\n",
    "plt.title(\"Representation of Each MBTI in The Dataset\")"
   ]
  },
  {
   "cell_type": "markdown",
   "id": "f1fc4252-c12b-4bab-9fce-a27301d5b92e",
   "metadata": {},
   "source": [
    "From this graph, it should be noted that there is a larger representation of the INTJ, INFJ, INTP, and INFP types while a much smaller representation of the ESTJ,ESFJ,ESTP, and ESFP types."
   ]
  },
  {
   "cell_type": "markdown",
   "id": "5e752da2-d4cb-4485-98e1-da6aa62b2274",
   "metadata": {},
   "source": [
    "# Analysis"
   ]
  },
  {
   "cell_type": "markdown",
   "id": "cd40f8dc-dd9d-4ba9-9a7d-3e6b410eb209",
   "metadata": {},
   "source": [
    "### Dividing testing and training"
   ]
  },
  {
   "cell_type": "code",
   "execution_count": 8,
   "id": "b3a048cc-93ea-4265-a3c0-0a1a453e21b4",
   "metadata": {},
   "outputs": [],
   "source": [
    "train, test = model_selection.train_test_split(data, test_size=0.3, random_state = 301)"
   ]
  },
  {
   "cell_type": "markdown",
   "id": "6fb1c074-e976-4df6-b825-c9cedb4faa10",
   "metadata": {},
   "source": [
    "### Visualizing the Training Data Distribution"
   ]
  },
  {
   "cell_type": "code",
   "execution_count": 9,
   "id": "33fb7c92-cfa3-4ec1-9b62-4cd1e27c3913",
   "metadata": {
    "tags": []
   },
   "outputs": [
    {
     "data": {
      "text/html": [
       "<div>\n",
       "<style scoped>\n",
       "    .dataframe tbody tr th:only-of-type {\n",
       "        vertical-align: middle;\n",
       "    }\n",
       "\n",
       "    .dataframe tbody tr th {\n",
       "        vertical-align: top;\n",
       "    }\n",
       "\n",
       "    .dataframe thead th {\n",
       "        text-align: right;\n",
       "    }\n",
       "</style>\n",
       "<table border=\"1\" class=\"dataframe\">\n",
       "  <thead>\n",
       "    <tr style=\"text-align: right;\">\n",
       "      <th></th>\n",
       "      <th>type</th>\n",
       "      <th>posts</th>\n",
       "    </tr>\n",
       "  </thead>\n",
       "  <tbody>\n",
       "    <tr>\n",
       "      <th>3938</th>\n",
       "      <td>ISTP</td>\n",
       "      <td>'The ISTPs quiet moments didnt seem to bother ...</td>\n",
       "    </tr>\n",
       "    <tr>\n",
       "      <th>5687</th>\n",
       "      <td>INTP</td>\n",
       "      <td>'ok thank you!</td>\n",
       "    </tr>\n",
       "    <tr>\n",
       "      <th>3331</th>\n",
       "      <td>ISTP</td>\n",
       "      <td>':wink:</td>\n",
       "    </tr>\n",
       "    <tr>\n",
       "      <th>7116</th>\n",
       "      <td>INTP</td>\n",
       "      <td>'Alright, I'm just bored. So I thought up a ga...</td>\n",
       "    </tr>\n",
       "    <tr>\n",
       "      <th>1425</th>\n",
       "      <td>INFP</td>\n",
       "      <td>'Golden</td>\n",
       "    </tr>\n",
       "    <tr>\n",
       "      <th>...</th>\n",
       "      <td>...</td>\n",
       "      <td>...</td>\n",
       "    </tr>\n",
       "    <tr>\n",
       "      <th>2365</th>\n",
       "      <td>INFP</td>\n",
       "      <td>'Not married, but I would to either elope or h...</td>\n",
       "    </tr>\n",
       "    <tr>\n",
       "      <th>4331</th>\n",
       "      <td>INTJ</td>\n",
       "      <td>'So my sick, stiff and introverted self starte...</td>\n",
       "    </tr>\n",
       "    <tr>\n",
       "      <th>3730</th>\n",
       "      <td>INTP</td>\n",
       "      <td>My son and I doing our mad faces at his birth ...</td>\n",
       "    </tr>\n",
       "    <tr>\n",
       "      <th>1604</th>\n",
       "      <td>ENTP</td>\n",
       "      <td>'Any place with craft beers. And sometimes mus...</td>\n",
       "    </tr>\n",
       "    <tr>\n",
       "      <th>1344</th>\n",
       "      <td>ISTP</td>\n",
       "      <td>'I don't know if my opinion would help at all ...</td>\n",
       "    </tr>\n",
       "  </tbody>\n",
       "</table>\n",
       "<p>6072 rows × 2 columns</p>\n",
       "</div>"
      ],
      "text/plain": [
       "      type                                              posts\n",
       "3938  ISTP  'The ISTPs quiet moments didnt seem to bother ...\n",
       "5687  INTP                                     'ok thank you!\n",
       "3331  ISTP                                            ':wink:\n",
       "7116  INTP  'Alright, I'm just bored. So I thought up a ga...\n",
       "1425  INFP                                            'Golden\n",
       "...    ...                                                ...\n",
       "2365  INFP  'Not married, but I would to either elope or h...\n",
       "4331  INTJ  'So my sick, stiff and introverted self starte...\n",
       "3730  INTP  My son and I doing our mad faces at his birth ...\n",
       "1604  ENTP  'Any place with craft beers. And sometimes mus...\n",
       "1344  ISTP  'I don't know if my opinion would help at all ...\n",
       "\n",
       "[6072 rows x 2 columns]"
      ]
     },
     "execution_count": 9,
     "metadata": {},
     "output_type": "execute_result"
    }
   ],
   "source": [
    "train"
   ]
  },
  {
   "cell_type": "code",
   "execution_count": 10,
   "id": "dc4e7f31-ee4e-4357-b480-0c09cc641b91",
   "metadata": {
    "tags": []
   },
   "outputs": [],
   "source": [
    "group_train = train.groupby('type')\n",
    "\n",
    "n_train = []\n",
    "for x in mbti:\n",
    "    num_rows = len(group_train.get_group(f\"{x}\"))\n",
    "    n_train += [num_rows]\n",
    "    \n",
    "n_train_obs = pd.DataFrame([np.array(mbti), np.array(n_train)]).T\n",
    "n_train_obs.columns = [\"type\", \"n obeservations\"]"
   ]
  },
  {
   "cell_type": "code",
   "execution_count": 11,
   "id": "a757245d-0c61-41bb-acec-63bfab0f8542",
   "metadata": {
    "tags": []
   },
   "outputs": [
    {
     "data": {
      "text/plain": [
       "Text(0.5, 1.0, 'Representation of Each MBTI in Training Data')"
      ]
     },
     "execution_count": 11,
     "metadata": {},
     "output_type": "execute_result"
    },
    {
     "data": {
      "image/png": "[encoded data removed]",
      "text/plain": [
       "<Figure size 900x500 with 1 Axes>"
      ]
     },
     "metadata": {},
     "output_type": "display_data"
    }
   ],
   "source": [
    "plt.subplots(figsize= (9,5))\n",
    "ax = sns.countplot(train, x = \"type\", order = mbti)\n",
    "ax.bar_label(ax.containers[0], labels = n_train)\n",
    "plt.xlabel(\"MBTI Type\")\n",
    "plt.ylabel(\"Number of Observations\")\n",
    "plt.title(\"Representation of Each MBTI in Training Data\")"
   ]
  },
  {
   "cell_type": "markdown",
   "id": "16f3af3e-e8f0-47a4-bba3-5c3c96ca053d",
   "metadata": {},
   "source": [
    "### Word Counts of Posts from Each MBTI"
   ]
  },
  {
   "cell_type": "code",
   "execution_count": 12,
   "id": "ec94de73-26df-495f-9508-dd6f13432f86",
   "metadata": {
    "tags": []
   },
   "outputs": [],
   "source": [
    "def word_count(t):\n",
    "    num_words = []\n",
    "    train_posts = t['posts']\n",
    "    for tp in train_posts:\n",
    "        tokenizer = RegexpTokenizer(r'\\w+')\n",
    "        tokens = tokenizer.tokenize(tp)\n",
    "        num_words += [float(len(tokens))] \n",
    "    t[\"word_count\"] = (num_words)\n",
    "    t = t.drop(['posts'], axis = 1)\n",
    "    return t\n",
    "    \n",
    "train_words = word_count(train)"
   ]
  },
  {
   "cell_type": "code",
   "execution_count": 13,
   "id": "5d78bc9e-3d7a-4a77-9de7-350ca0233d63",
   "metadata": {
    "tags": []
   },
   "outputs": [],
   "source": [
    "train_pivot = train_words.pivot_table(columns = 'type')\n",
    "train_pivot\n",
    "\n",
    "train_pivot = train_pivot.reindex(columns=['ESTJ','ENTJ','ESFJ','ENFJ',\n",
    "                             'ISTJ','ISFJ','INTJ','INFJ',\n",
    "                             'ESTP','ENTP','ESFP','ENFP',\n",
    "                             'ISTP','INTP','ISFP','INFP'])\n"
   ]
  },
  {
   "cell_type": "code",
   "execution_count": 14,
   "id": "0302121d-107b-4a5b-bd39-8829baeddf9d",
   "metadata": {
    "tags": []
   },
   "outputs": [
    {
     "name": "stdout",
     "output_type": "stream",
     "text": [
      "            ESTJ        ENTJ       ESFJ        ENFJ        ISTJ        ISFJ  \\\n",
      "count  30.000000  173.000000  31.000000  141.000000  143.000000  101.000000   \n",
      "mean   25.966667   29.075145  26.258065   27.872340   27.874126   29.099010   \n",
      "std    13.220891   12.474631  14.280448   13.263188   12.785262   13.147247   \n",
      "min     1.000000    1.000000   1.000000    1.000000    1.000000    1.000000   \n",
      "25%    14.000000   21.000000  13.500000   15.000000   16.500000   19.000000   \n",
      "50%    32.500000   35.000000  25.000000   33.000000   32.000000   35.000000   \n",
      "75%    36.750000   38.000000  40.000000   39.000000   38.000000   39.000000   \n",
      "max    42.000000   49.000000  47.000000   45.000000   45.000000   46.000000   \n",
      "\n",
      "             INTJ         INFJ       ESTP        ENTP       ESFP        ENFP  \\\n",
      "count  780.000000  1006.000000  59.000000  479.000000  35.000000  473.000000   \n",
      "mean    26.732051    27.677932  24.152542   25.870564  23.771429   28.236786   \n",
      "std     13.330257    13.389669  14.796101   13.552314  14.104830   12.602754   \n",
      "min      0.000000     0.000000   1.000000    1.000000   1.000000    0.000000   \n",
      "25%     14.000000    15.250000   8.500000   12.000000  11.000000   17.000000   \n",
      "50%     33.000000    34.000000  27.000000   32.000000  28.000000   34.000000   \n",
      "75%     37.000000    38.000000  37.500000   38.000000  38.000000   38.000000   \n",
      "max     66.000000    46.000000  47.000000   45.000000  42.000000   47.000000   \n",
      "\n",
      "             ISTP        INTP        ISFP         INFP  \n",
      "count  232.000000  911.000000  183.000000  1295.000000  \n",
      "mean    24.935345   27.173436   26.142077    27.681081  \n",
      "std     14.058633   13.059147   13.605167    13.263449  \n",
      "min      0.000000    0.000000    0.000000     1.000000  \n",
      "25%     10.000000   14.500000   12.000000    15.000000  \n",
      "50%     30.000000   33.000000   31.000000    34.000000  \n",
      "75%     37.000000   38.000000   38.000000    38.000000  \n",
      "max     47.000000   48.000000   45.000000    50.000000  \n"
     ]
    }
   ],
   "source": [
    "summary_stats = pd.DataFrame()\n",
    "for m in mbti:\n",
    "    stats = train_words.groupby(\"type\").get_group(f\"{m}\").describe()\n",
    "    summary_stats[f\"{m}\"] = stats\n",
    "\n",
    "print(summary_stats)\n",
    "    "
   ]
  },
  {
   "cell_type": "code",
   "execution_count": 15,
   "id": "b09516ec-3266-486c-8c9f-49113e218cc8",
   "metadata": {
    "tags": []
   },
   "outputs": [
    {
     "data": {
      "text/plain": [
       "Text(0.5, 1.0, 'Boxplots of Word Counts of Social Media Posts Based on MBTI Type')"
      ]
     },
     "execution_count": 15,
     "metadata": {},
     "output_type": "execute_result"
    },
    {
     "data": {
      "image/png": "[encoded data removed]",
      "text/plain": [
       "<Figure size 900x500 with 1 Axes>"
      ]
     },
     "metadata": {},
     "output_type": "display_data"
    }
   ],
   "source": [
    "plt.subplots(figsize= (9,5))\n",
    "box = sns.boxplot(data=train_words, x=\"type\", y=\"word_count\", order = mbti)\n",
    "line = sns.lineplot(x=mbti, y=train_pivot.loc[\"word_count\"], sort = mbti, errorbar = None, marker = \"o\", estimator = 'mean', legend = True)\n",
    "plt.xlabel(\"MBTI Type\")\n",
    "plt.ylabel(\"Word Count\")\n",
    "plt.title(\"Boxplots of Word Counts of Social Media Posts Based on MBTI Type\")\n",
    "           "
   ]
  }
 ],
 "metadata": {
  "kernelspec": {
   "display_name": "Python 3 (ipykernel)",
   "language": "python",
   "name": "python3"
  },
  "language_info": {
   "codemirror_mode": {
    "name": "ipython",
    "version": 3
   },
   "file_extension": ".py",
   "mimetype": "text/x-python",
   "name": "python",
   "nbconvert_exporter": "python",
   "pygments_lexer": "ipython3",
   "version": "3.10.9"
  }
 },
 "nbformat": 4,
 "nbformat_minor": 5
}
